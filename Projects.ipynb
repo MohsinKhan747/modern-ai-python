{
  "nbformat": 4,
  "nbformat_minor": 0,
  "metadata": {
    "colab": {
      "provenance": [],
      "authorship_tag": "ABX9TyNtf2GbeNGutf3VSHrqPy/y",
      "include_colab_link": true
    },
    "kernelspec": {
      "name": "python3",
      "display_name": "Python 3"
    },
    "language_info": {
      "name": "python"
    }
  },
  "cells": [
    {
      "cell_type": "markdown",
      "metadata": {
        "id": "view-in-github",
        "colab_type": "text"
      },
      "source": [
        "<a href=\"https://colab.research.google.com/github/MohsinKhan747/modern-ai-python/blob/main/Projects.ipynb\" target=\"_parent\"><img src=\"https://colab.research.google.com/assets/colab-badge.svg\" alt=\"Open In Colab\"/></a>"
      ]
    },
    {
      "cell_type": "markdown",
      "source": [
        "Python Projects Basics to Advanced"
      ],
      "metadata": {
        "id": "aigd5asYw2rD"
      }
    },
    {
      "cell_type": "code",
      "source": [
        "  #Constants\n",
        "  PROMPT: str = \"What do you want?\"\n",
        "  JOKE: str = \"Why did the scarecrow win an award? Because he was outstanding in his field!\"\n",
        "\n",
        "  # 1. Get user Input\n",
        "  user_input = input(PROMPT)\n",
        "  print(user_input)\n",
        "\n",
        "  #2. if else statements\n",
        "  # Case ?? Joke joKe\n",
        "\n",
        "  if user_input.lower() == 'joke':\n",
        "    print(JOKE)\n",
        "  else:\n",
        "    print(\"Sorry, I only tell jokes.\")\n",
        "\n"
      ],
      "metadata": {
        "colab": {
          "base_uri": "https://localhost:8080/"
        },
        "id": "90rFntALw7UK",
        "outputId": "55241129-369e-461d-c5a0-e1274b794713"
      },
      "execution_count": null,
      "outputs": [
        {
          "output_type": "stream",
          "name": "stdout",
          "text": [
            "What do you want?JOKE\n",
            "JOKE\n",
            "Why did the scarecrow win an award? Because he was outstanding in his field!\n"
          ]
        }
      ]
    },
    {
      "cell_type": "code",
      "source": [
        "  PROMPT: str = \"What do you want?\"\n",
        "  JOKE: str = \"Why did the scarecrow win an award? Because he was outstanding in his field!\"\n",
        "# Define a Function\n",
        "def joke_bot():\n",
        "    user_input = input(PROMPT)\n",
        "    print(user_input)\n",
        "    if user_input.lower() == 'joke':\n",
        "      print(JOKE)\n",
        "    else:\n",
        "      print(\"Sorry, I only tell jokes.\")\n",
        "\n",
        "joke_bot()"
      ],
      "metadata": {
        "colab": {
          "base_uri": "https://localhost:8080/"
        },
        "id": "E7HxHVA-x3kk",
        "outputId": "cfdd58c4-3953-490f-dc0b-27cdbfb07c5b"
      },
      "execution_count": null,
      "outputs": [
        {
          "output_type": "stream",
          "name": "stdout",
          "text": [
            "What do you want?JOKE\n",
            "JOKE\n",
            "Why did the scarecrow win an award? Because he was outstanding in his field!\n"
          ]
        }
      ]
    },
    {
      "cell_type": "markdown",
      "source": [
        "PROJECT 2\n"
      ],
      "metadata": {
        "id": "e74I-KLOy4xv"
      }
    },
    {
      "cell_type": "code",
      "source": [
        "# Get user Input\n",
        "user_input = int(input(\"Enter a number: \"))\n",
        "# Loop While & For\n",
        "# 2 4 8 16 64 128\n",
        "while user_input <= 100:\n",
        "    user_input *= 2\n",
        "    print(user_input, end = \" \")"
      ],
      "metadata": {
        "colab": {
          "base_uri": "https://localhost:8080/"
        },
        "id": "m90rErVOy8DY",
        "outputId": "7713e92d-e7e9-4573-a17d-e8cde08a050f"
      },
      "execution_count": null,
      "outputs": [
        {
          "output_type": "stream",
          "name": "stdout",
          "text": [
            "Enter a number: 2\n",
            "4 8 16 32 64 128 "
          ]
        }
      ]
    },
    {
      "cell_type": "markdown",
      "source": [
        "Project 3\n"
      ],
      "metadata": {
        "id": "kDFxE-Xap_Vi"
      }
    },
    {
      "cell_type": "code",
      "source": [
        "message = \"Liftoff!\"\n",
        "\n",
        "# 1. Loop : For\n",
        "# List or range\n",
        "\n",
        "# start position 10, end position 0, step = -1\n",
        "def countdown():\n",
        "  for i in range(10,0, -1):\n",
        "   print(i, end = \" \")\n",
        "  print(message)\n",
        "\n",
        "countdown()\n",
        "\n",
        "\n",
        "# using List\n",
        "\n",
        "number_list: list[int] = [10,9,8,7,6,5,4,3,2,1]\n",
        "\n",
        "def countdown2():\n",
        "  for i in number_list:\n",
        "    print(i, end = \" \")\n",
        "  print(message)\n",
        "\n",
        "countdown2()\n"
      ],
      "metadata": {
        "colab": {
          "base_uri": "https://localhost:8080/"
        },
        "id": "IGVEC1mgqBiR",
        "outputId": "a02ca5d9-240b-4740-c658-37e97ddff9e3"
      },
      "execution_count": null,
      "outputs": [
        {
          "output_type": "stream",
          "name": "stdout",
          "text": [
            "10 9 8 7 6 5 4 3 2 1 Liftoff!\n",
            "10 9 8 7 6 5 4 3 2 1 Liftoff!\n"
          ]
        }
      ]
    },
    {
      "cell_type": "markdown",
      "source": [
        "Project 4 Guess My Number"
      ],
      "metadata": {
        "id": "ahlOMXgZt3Nf"
      }
    },
    {
      "cell_type": "code",
      "source": [
        "import random\n",
        "\n",
        "random_number = random.randint(0,100)\n",
        "print(random_number)\n",
        "\n",
        "allowed_attempts: int = 5\n",
        "user_attempts: int = 0\n",
        "\n",
        "while user_attempts < allowed_attempts:\n",
        "  print(f\"Attemps Left: {allowed_attempts - user_attempts}\")\n",
        "  user_input: int = int(input(\"Guess a number: \"))\n",
        "  user_attempts += 1\n",
        "  if(user_input == random_number):\n",
        "    print(\"You guessed it!\")\n",
        "    break\n",
        "  elif user_input > random_number:\n",
        "    print(\"Too High!\")\n",
        "  elif user_input < random_number:\n",
        "    print(\"Too Low!\")\n",
        "  else:\n",
        "    print(\"Invalid Input\")\n",
        "\n",
        "if(user_attempts == allowed_attempts):\n",
        "  print(\"Game Over\")\n"
      ],
      "metadata": {
        "colab": {
          "base_uri": "https://localhost:8080/"
        },
        "id": "fRUK-3uIu4TA",
        "outputId": "cbfedffd-4ac3-49e9-91a8-e8439088abf3"
      },
      "execution_count": null,
      "outputs": [
        {
          "output_type": "stream",
          "name": "stdout",
          "text": [
            "89\n",
            "Attemps Left: 5\n",
            "Guess a number: 90\n",
            "Too High!\n",
            "Attemps Left: 4\n",
            "Guess a number: 100\n",
            "Too High!\n",
            "Attemps Left: 3\n",
            "Guess a number: 20\n",
            "Too Low!\n",
            "Attemps Left: 2\n",
            "Guess a number: 0\n",
            "Too Low!\n",
            "Attemps Left: 1\n",
            "Guess a number: 80\n",
            "Too Low!\n",
            "Game Over\n"
          ]
        }
      ]
    },
    {
      "cell_type": "markdown",
      "source": [
        "Project 4 : Random Numbers"
      ],
      "metadata": {
        "id": "3eHxtY_uW4lT"
      }
    },
    {
      "cell_type": "code",
      "source": [
        "# Print 10 random numbers in the range 1 to 100\n",
        "\n",
        "# Example 45 79 61 47 52 10 16 83 19 12\n",
        "\n",
        "import random\n",
        "MIN_NUMBER:int =  1\n",
        "MAX_NUMBER:int = 100\n",
        "N_RANDOM_NUMBERS:int = 10\n",
        "\n",
        "# Function\n",
        "# 1. Use For Loop\n",
        "number_list = []\n",
        "\n",
        "for i in range(N_RANDOM_NUMBERS):\n",
        "  random_number = random.randint(MIN_NUMBER, MAX_NUMBER)\n",
        "  number_list.append(random_number)\n",
        "print(*number_list)\n",
        "# To store the 10 numbers we will use list\n",
        "\n",
        "\n"
      ],
      "metadata": {
        "colab": {
          "base_uri": "https://localhost:8080/"
        },
        "id": "BdXUPkGqW7rw",
        "outputId": "01883322-878c-4be1-b813-c38a0420d93e"
      },
      "execution_count": null,
      "outputs": [
        {
          "output_type": "stream",
          "name": "stdout",
          "text": [
            "41 56 10 9 69 61 5 71 21 41\n"
          ]
        }
      ]
    },
    {
      "cell_type": "code",
      "source": [
        "MIN_NUMBER:int =  1\n",
        "MAX_NUMBER:int = 101\n",
        "N_RANDOM_NUMBERS:int = 10\n",
        "\n",
        "import numpy as np\n",
        "# numpy is numerical python\n",
        "\n",
        "random_numbers = np.random.randint(MIN_NUMBER, MAX_NUMBER, N_RANDOM_NUMBERS)\n",
        "print(*random_numbers)"
      ],
      "metadata": {
        "colab": {
          "base_uri": "https://localhost:8080/"
        },
        "id": "RA2U_h-Da162",
        "outputId": "d939f36b-bc1d-44b2-f8e9-332d59331861"
      },
      "execution_count": null,
      "outputs": [
        {
          "output_type": "stream",
          "name": "stdout",
          "text": [
            "76 26 32 92 54 100 50 7 56 3\n"
          ]
        }
      ]
    },
    {
      "cell_type": "markdown",
      "source": [
        "Project 5 weight calculation on moon"
      ],
      "metadata": {
        "id": "IAxR1K01VK4Z"
      }
    },
    {
      "cell_type": "code",
      "source": [
        "  def get_mars_weight():\n",
        "    MARS_CONSTANT: float = 0.378\n",
        "    user_weight: float = float(input(\"What is your weight? \"))\n",
        "    mars_weight = round((user_weight * MARS_CONSTANT), 2)\n",
        "\n",
        "    return mars_weight\n",
        "\n",
        "my_weight_on_mars = get_mars_weight()\n",
        "\n",
        "print(f\"Your weight on mars is {my_weight_on_mars} kg\")\n",
        "\n",
        "# solving basic problems using arithematics"
      ],
      "metadata": {
        "colab": {
          "base_uri": "https://localhost:8080/"
        },
        "id": "3o28iYvyVU0C",
        "outputId": "69bd0df8-11ac-4029-8ed3-69dd03b64f0e"
      },
      "execution_count": null,
      "outputs": [
        {
          "output_type": "stream",
          "name": "stdout",
          "text": [
            "What is your weight? 120\n",
            "Your weight on mars is 45.36 kg\n"
          ]
        }
      ]
    },
    {
      "cell_type": "code",
      "source": [
        "# prompt: create all the constants of planets in percentage in a variable\n",
        "\n",
        "PLANETS_PERCENTAGE = {\n",
        "    'mercury': 0.38,\n",
        "    'venus': 0.91,\n",
        "    'earth': 1.00,\n",
        "    'mars': 0.38,\n",
        "    'jupiter': 2.53,\n",
        "    'saturn': 1.06,\n",
        "    'uranus': 0.89,\n",
        "    'neptune': 1.14\n",
        "}\n",
        "\n",
        "def get_weight_on_planets():\n",
        "    user_weight: float = float(input(\"What is your weight on earth? \"))\n",
        "    planet_name: str = input(\"What is your planet name? \")\n",
        "\n",
        "    if planet_name.lower() in PLANETS_PERCENTAGE:\n",
        "        weight_on_planet = (user_weight * PLANETS_PERCENTAGE[planet_name]), 2)\n",
        "        print(f\"Your weight on {planet_name} is {weight_on_planet} kg\")\n",
        "    else:\n",
        "        print(\"Invalid planet name\")\n",
        "\n",
        "get_weight_on_planets()\n",
        "\n",
        "\n"
      ],
      "metadata": {
        "colab": {
          "base_uri": "https://localhost:8080/"
        },
        "id": "tzwt3GAbHKRw",
        "outputId": "904af9d5-3783-4249-e27f-fdd1321ac45d"
      },
      "execution_count": null,
      "outputs": [
        {
          "output_type": "stream",
          "name": "stdout",
          "text": [
            "What is your weight on earth? 90\n",
            "What is your planet name? mars\n",
            "Your weight on mars is 34.2 kg\n"
          ]
        }
      ]
    },
    {
      "cell_type": "markdown",
      "source": [
        "Working with *args and **kwrags\n"
      ],
      "metadata": {
        "id": "o_ZF9CO25JL1"
      }
    },
    {
      "cell_type": "code",
      "source": [
        "# for use of dictionary **kwargs\n",
        "\n",
        "def sum_of_numbers(**lodhi):\n",
        "  for key, value in lodhi.items():\n",
        "    print(f\"{key} : {value}\")\n",
        "\n",
        "sum_of_numbers(firstName = \"Mohsin\", lastName = \"Khan\", city = \"Islamabad\")"
      ],
      "metadata": {
        "colab": {
          "base_uri": "https://localhost:8080/"
        },
        "id": "fCOvEees9szi",
        "outputId": "d5be741d-5f52-4724-ed1b-c85ec1df3555"
      },
      "execution_count": null,
      "outputs": [
        {
          "output_type": "stream",
          "name": "stdout",
          "text": [
            "firstName : Mohsin\n",
            "lastName : Khan\n",
            "city : Islamabad\n"
          ]
        }
      ]
    },
    {
      "cell_type": "code",
      "source": [
        "# function with multiple postional Arguments\n",
        "\n",
        "def multiply_numbers(*args):\n",
        "  result = 1\n",
        "  for num in args:\n",
        "    result *=num\n",
        "  return result\n",
        "\n",
        "print(multiply_numbers(1,2,4))\n",
        "\n",
        "numbers = [1,2,3,4,5]\n",
        "print(multiply_numbers(*numbers))"
      ],
      "metadata": {
        "colab": {
          "base_uri": "https://localhost:8080/"
        },
        "id": "M9DzgSwkIiEl",
        "outputId": "3c96d414-0196-4616-a256-53859959b997"
      },
      "execution_count": null,
      "outputs": [
        {
          "output_type": "stream",
          "name": "stdout",
          "text": [
            "8\n",
            "120\n"
          ]
        }
      ]
    },
    {
      "cell_type": "code",
      "source": [
        "# Passing a list as an argument\n",
        "\n",
        "def greet(**kwargs):\n",
        "  if 'name' in kwargs:\n",
        "    print(f\"Hello {kwargs['name']}!\")\n",
        "  else:\n",
        "    print(\"Hello Guest!\")\n",
        "\n",
        "greet(name ='Bob')\n",
        "greet()"
      ],
      "metadata": {
        "colab": {
          "base_uri": "https://localhost:8080/"
        },
        "id": "ELsh6D6nOUn9",
        "outputId": "cbb505ec-0fe5-4748-f9b7-57370602d3f5"
      },
      "execution_count": null,
      "outputs": [
        {
          "output_type": "stream",
          "name": "stdout",
          "text": [
            "Hello Bob!\n",
            "Hello Guest!\n"
          ]
        }
      ]
    },
    {
      "cell_type": "code",
      "source": [
        "def order_pizza(size,*toppings,**details):\n",
        "  print(f\"Size:{size}\")\n",
        "  print(f\"Toppings:{' or '.join(toppings)}\")\n",
        "  print(f\"Details:\")\n",
        "  for key,value in details.items():\n",
        "    print(f\"{key}: {value}\")\n",
        "\n",
        "order_pizza(\"Large\",\"cheese\",\"chicken\",\"mushrooms\",name=\"Mohsin\",delivery_time =\"18:00\")"
      ],
      "metadata": {
        "colab": {
          "base_uri": "https://localhost:8080/"
        },
        "id": "yYhaFaHhbPMi",
        "outputId": "ec403481-e9ba-4b8f-a782-48d76dad7cc4"
      },
      "execution_count": null,
      "outputs": [
        {
          "output_type": "stream",
          "name": "stdout",
          "text": [
            "Size:Large\n",
            "Toppings:cheese or chicken or mushrooms\n",
            "Details:\n",
            "name: Mohsin\n",
            "delivery_time: 18:00\n"
          ]
        }
      ]
    },
    {
      "cell_type": "code",
      "source": [
        "# HangMan\n",
        "\n",
        "\n",
        "word_list = ['Mohsin','Honda','Civic']\n",
        "for word in word_list:\n",
        "  print(word.split(' '))\n"
      ],
      "metadata": {
        "colab": {
          "base_uri": "https://localhost:8080/"
        },
        "id": "7XcVo24fWWxt",
        "outputId": "1dff89ec-3f13-43c1-8389-ffd02d3694d0"
      },
      "execution_count": 5,
      "outputs": [
        {
          "output_type": "stream",
          "name": "stdout",
          "text": [
            "['Mohsin']\n",
            "['Honda']\n",
            "['Civic']\n"
          ]
        }
      ]
    }
  ]
}