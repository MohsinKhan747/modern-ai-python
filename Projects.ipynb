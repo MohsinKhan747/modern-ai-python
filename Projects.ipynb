{
  "nbformat": 4,
  "nbformat_minor": 0,
  "metadata": {
    "colab": {
      "provenance": [],
      "authorship_tag": "ABX9TyPE31bhNheSZpVUn2DFWt8k",
      "include_colab_link": true
    },
    "kernelspec": {
      "name": "python3",
      "display_name": "Python 3"
    },
    "language_info": {
      "name": "python"
    }
  },
  "cells": [
    {
      "cell_type": "markdown",
      "metadata": {
        "id": "view-in-github",
        "colab_type": "text"
      },
      "source": [
        "<a href=\"https://colab.research.google.com/github/MohsinKhan747/modern-ai-python/blob/main/Projects.ipynb\" target=\"_parent\"><img src=\"https://colab.research.google.com/assets/colab-badge.svg\" alt=\"Open In Colab\"/></a>"
      ]
    },
    {
      "cell_type": "markdown",
      "source": [
        "Python Projects Basics to Advanced"
      ],
      "metadata": {
        "id": "aigd5asYw2rD"
      }
    },
    {
      "cell_type": "code",
      "source": [
        "  #Constants\n",
        "  PROMPT: str = \"What do you want?\"\n",
        "  JOKE: str = \"Why did the scarecrow win an award? Because he was outstanding in his field!\"\n",
        "\n",
        "  # 1. Get user Input\n",
        "  user_input = input(PROMPT)\n",
        "  print(user_input)\n",
        "\n",
        "  #2. if else statements\n",
        "  # Case ?? Joke joKe\n",
        "\n",
        "  if user_input.lower() == 'joke':\n",
        "    print(JOKE)\n",
        "  else:\n",
        "    print(\"Sorry, I only tell jokes.\")\n",
        "\n"
      ],
      "metadata": {
        "colab": {
          "base_uri": "https://localhost:8080/"
        },
        "id": "90rFntALw7UK",
        "outputId": "55241129-369e-461d-c5a0-e1274b794713"
      },
      "execution_count": null,
      "outputs": [
        {
          "output_type": "stream",
          "name": "stdout",
          "text": [
            "What do you want?JOKE\n",
            "JOKE\n",
            "Why did the scarecrow win an award? Because he was outstanding in his field!\n"
          ]
        }
      ]
    },
    {
      "cell_type": "code",
      "source": [
        "  PROMPT: str = \"What do you want?\"\n",
        "  JOKE: str = \"Why did the scarecrow win an award? Because he was outstanding in his field!\"\n",
        "# Define a Function\n",
        "def joke_bot():\n",
        "    user_input = input(PROMPT)\n",
        "    print(user_input)\n",
        "    if user_input.lower() == 'joke':\n",
        "      print(JOKE)\n",
        "    else:\n",
        "      print(\"Sorry, I only tell jokes.\")\n",
        "\n",
        "joke_bot()"
      ],
      "metadata": {
        "colab": {
          "base_uri": "https://localhost:8080/"
        },
        "id": "E7HxHVA-x3kk",
        "outputId": "cfdd58c4-3953-490f-dc0b-27cdbfb07c5b"
      },
      "execution_count": null,
      "outputs": [
        {
          "output_type": "stream",
          "name": "stdout",
          "text": [
            "What do you want?JOKE\n",
            "JOKE\n",
            "Why did the scarecrow win an award? Because he was outstanding in his field!\n"
          ]
        }
      ]
    },
    {
      "cell_type": "markdown",
      "source": [
        "PROJECT 2\n"
      ],
      "metadata": {
        "id": "e74I-KLOy4xv"
      }
    },
    {
      "cell_type": "code",
      "source": [
        "# Get user Input\n",
        "user_input = int(input(\"Enter a number: \"))\n",
        "# Loop While & For\n",
        "# 2 4 8 16 64 128\n",
        "while user_input <= 100:\n",
        "    user_input *= 2\n",
        "    print(user_input, end = \" \")"
      ],
      "metadata": {
        "colab": {
          "base_uri": "https://localhost:8080/"
        },
        "id": "m90rErVOy8DY",
        "outputId": "7713e92d-e7e9-4573-a17d-e8cde08a050f"
      },
      "execution_count": null,
      "outputs": [
        {
          "output_type": "stream",
          "name": "stdout",
          "text": [
            "Enter a number: 2\n",
            "4 8 16 32 64 128 "
          ]
        }
      ]
    },
    {
      "cell_type": "markdown",
      "source": [
        "Project 3\n"
      ],
      "metadata": {
        "id": "kDFxE-Xap_Vi"
      }
    },
    {
      "cell_type": "code",
      "source": [
        "message = \"Liftoff!\"\n",
        "\n",
        "# 1. Loop : For\n",
        "# List or range\n",
        "\n",
        "# start position 10, end position 0, step = -1\n",
        "def countdown():\n",
        "  for i in range(10,0, -1):\n",
        "   print(i, end = \" \")\n",
        "  print(message)\n",
        "\n",
        "countdown()\n",
        "\n",
        "\n",
        "# using List\n",
        "\n",
        "number_list: list[int] = [10,9,8,7,6,5,4,3,2,1]\n",
        "\n",
        "def countdown2():\n",
        "  for i in number_list:\n",
        "    print(i, end = \" \")\n",
        "  print(message)\n",
        "\n",
        "countdown2()\n"
      ],
      "metadata": {
        "colab": {
          "base_uri": "https://localhost:8080/"
        },
        "id": "IGVEC1mgqBiR",
        "outputId": "a02ca5d9-240b-4740-c658-37e97ddff9e3"
      },
      "execution_count": null,
      "outputs": [
        {
          "output_type": "stream",
          "name": "stdout",
          "text": [
            "10 9 8 7 6 5 4 3 2 1 Liftoff!\n",
            "10 9 8 7 6 5 4 3 2 1 Liftoff!\n"
          ]
        }
      ]
    },
    {
      "cell_type": "markdown",
      "source": [
        "Project 4 Guess My Number"
      ],
      "metadata": {
        "id": "ahlOMXgZt3Nf"
      }
    },
    {
      "cell_type": "code",
      "source": [
        "import random\n",
        "\n",
        "random_number = random.randint(0,100)\n",
        "print(random_number)\n",
        "\n",
        "allowed_attempts: int = 5\n",
        "user_attempts: int = 0\n",
        "\n",
        "while user_attempts < allowed_attempts:\n",
        "  print(f\"Attemps Left: {allowed_attempts - user_attempts}\")\n",
        "  user_input: int = int(input(\"Guess a number: \"))\n",
        "  user_attempts += 1\n",
        "  if(user_input == random_number):\n",
        "    print(\"You guessed it!\")\n",
        "    break\n",
        "  elif user_input > random_number:\n",
        "    print(\"Too High!\")\n",
        "  elif user_input < random_number:\n",
        "    print(\"Too Low!\")\n",
        "  else:\n",
        "    print(\"Invalid Input\")\n",
        "\n",
        "if(user_attempts == allowed_attempts):\n",
        "  print(\"Game Over\")\n"
      ],
      "metadata": {
        "colab": {
          "base_uri": "https://localhost:8080/"
        },
        "id": "fRUK-3uIu4TA",
        "outputId": "cbfedffd-4ac3-49e9-91a8-e8439088abf3"
      },
      "execution_count": 6,
      "outputs": [
        {
          "output_type": "stream",
          "name": "stdout",
          "text": [
            "89\n",
            "Attemps Left: 5\n",
            "Guess a number: 90\n",
            "Too High!\n",
            "Attemps Left: 4\n",
            "Guess a number: 100\n",
            "Too High!\n",
            "Attemps Left: 3\n",
            "Guess a number: 20\n",
            "Too Low!\n",
            "Attemps Left: 2\n",
            "Guess a number: 0\n",
            "Too Low!\n",
            "Attemps Left: 1\n",
            "Guess a number: 80\n",
            "Too Low!\n",
            "Game Over\n"
          ]
        }
      ]
    }
  ]
}