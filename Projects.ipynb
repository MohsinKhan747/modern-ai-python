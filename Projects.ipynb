{
  "nbformat": 4,
  "nbformat_minor": 0,
  "metadata": {
    "colab": {
      "provenance": [],
      "authorship_tag": "ABX9TyNtL6AdDcL27aKbeT5ejBwF",
      "include_colab_link": true
    },
    "kernelspec": {
      "name": "python3",
      "display_name": "Python 3"
    },
    "language_info": {
      "name": "python"
    }
  },
  "cells": [
    {
      "cell_type": "markdown",
      "metadata": {
        "id": "view-in-github",
        "colab_type": "text"
      },
      "source": [
        "<a href=\"https://colab.research.google.com/github/MohsinKhan747/modern-ai-python/blob/main/Projects.ipynb\" target=\"_parent\"><img src=\"https://colab.research.google.com/assets/colab-badge.svg\" alt=\"Open In Colab\"/></a>"
      ]
    },
    {
      "cell_type": "markdown",
      "source": [
        "Python Projects Basics to Advanced"
      ],
      "metadata": {
        "id": "aigd5asYw2rD"
      }
    },
    {
      "cell_type": "code",
      "source": [
        "  #Constants\n",
        "  PROMPT: str = \"What do you want?\"\n",
        "  JOKE: str = \"Why did the scarecrow win an award? Because he was outstanding in his field!\"\n",
        "\n",
        "  # 1. Get user Input\n",
        "  user_input = input(PROMPT)\n",
        "  print(user_input)\n",
        "\n",
        "  #2. if else statements\n",
        "  # Case ?? Joke joKe\n",
        "\n",
        "  if user_input.lower() == 'joke':\n",
        "    print(JOKE)\n",
        "  else:\n",
        "    print(\"Sorry, I only tell jokes.\")\n",
        "\n"
      ],
      "metadata": {
        "colab": {
          "base_uri": "https://localhost:8080/"
        },
        "id": "90rFntALw7UK",
        "outputId": "55241129-369e-461d-c5a0-e1274b794713"
      },
      "execution_count": 2,
      "outputs": [
        {
          "output_type": "stream",
          "name": "stdout",
          "text": [
            "What do you want?JOKE\n",
            "JOKE\n",
            "Why did the scarecrow win an award? Because he was outstanding in his field!\n"
          ]
        }
      ]
    },
    {
      "cell_type": "code",
      "source": [
        "  PROMPT: str = \"What do you want?\"\n",
        "  JOKE: str = \"Why did the scarecrow win an award? Because he was outstanding in his field!\"\n",
        "# Define a Function\n",
        "def joke_bot():\n",
        "    user_input = input(PROMPT)\n",
        "    print(user_input)\n",
        "    if user_input.lower() == 'joke':\n",
        "      print(JOKE)\n",
        "    else:\n",
        "      print(\"Sorry, I only tell jokes.\")\n",
        "\n",
        "joke_bot()"
      ],
      "metadata": {
        "colab": {
          "base_uri": "https://localhost:8080/"
        },
        "id": "E7HxHVA-x3kk",
        "outputId": "cfdd58c4-3953-490f-dc0b-27cdbfb07c5b"
      },
      "execution_count": 5,
      "outputs": [
        {
          "output_type": "stream",
          "name": "stdout",
          "text": [
            "What do you want?JOKE\n",
            "JOKE\n",
            "Why did the scarecrow win an award? Because he was outstanding in his field!\n"
          ]
        }
      ]
    },
    {
      "cell_type": "markdown",
      "source": [
        "PROJECT 2\n"
      ],
      "metadata": {
        "id": "e74I-KLOy4xv"
      }
    },
    {
      "cell_type": "code",
      "source": [
        "num_1 : int = int(input(\"Enter a number: \"))\n",
        "print(f\"Your number is: {num_1}\")\n",
        "print(f\"Doube of this number is {num_1*2}\")"
      ],
      "metadata": {
        "colab": {
          "base_uri": "https://localhost:8080/"
        },
        "id": "m90rErVOy8DY",
        "outputId": "b0f9b84e-0907-4a14-8222-7ba63358567b"
      },
      "execution_count": 6,
      "outputs": [
        {
          "output_type": "stream",
          "name": "stdout",
          "text": [
            "Enter a number: 2\n",
            "Your number is: 2\n",
            "Doube of this number is 4\n"
          ]
        }
      ]
    }
  ]
}