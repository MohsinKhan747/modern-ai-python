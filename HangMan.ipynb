{
  "nbformat": 4,
  "nbformat_minor": 0,
  "metadata": {
    "colab": {
      "provenance": [],
      "authorship_tag": "ABX9TyMOgslrUTkAc9D7R+kgSQyK",
      "include_colab_link": true
    },
    "kernelspec": {
      "name": "python3",
      "display_name": "Python 3"
    },
    "language_info": {
      "name": "python"
    }
  },
  "cells": [
    {
      "cell_type": "markdown",
      "metadata": {
        "id": "view-in-github",
        "colab_type": "text"
      },
      "source": [
        "<a href=\"https://colab.research.google.com/github/MohsinKhan747/modern-ai-python/blob/main/HangMan.ipynb\" target=\"_parent\"><img src=\"https://colab.research.google.com/assets/colab-badge.svg\" alt=\"Open In Colab\"/></a>"
      ]
    },
    {
      "cell_type": "code",
      "source": [
        "\n"
      ],
      "metadata": {
        "id": "VIYGPVW-5pWX"
      },
      "execution_count": null,
      "outputs": []
    },
    {
      "cell_type": "code",
      "execution_count": 26,
      "metadata": {
        "colab": {
          "base_uri": "https://localhost:8080/"
        },
        "id": "JTNr6mNtfmYR",
        "outputId": "aca70e69-3b94-42a3-b75d-8e62bbe8e3df"
      },
      "outputs": [
        {
          "output_type": "stream",
          "name": "stdout",
          "text": [
            "you have 5 tries left and you used these letters:  \n",
            "Current word:  - - - - -\n",
            "Guess a letter: a\n",
            "you have 5 tries left and you used these letters:  a\n",
            "Current word:  a - - - -\n",
            "Guess a letter: o\n",
            "Letter not in the word\n",
            "you have 4 tries left and you used these letters:  o a\n",
            "Current word:  a - - - -\n",
            "Guess a letter: p\n",
            "you have 4 tries left and you used these letters:  p o a\n",
            "Current word:  a p p - -\n",
            "Guess a letter: l\n",
            "you have 4 tries left and you used these letters:  p o a l\n",
            "Current word:  a p p l -\n",
            "Guess a letter: e\n",
            "You won the word was apple\n"
          ]
        }
      ],
      "source": [
        "\n",
        "\n",
        "import random\n",
        "import string\n",
        "\n",
        "words = ['apple','banana','orange','icecream','coffee']\n",
        "def get_word(words):\n",
        "  word = random.choice(words)\n",
        "  while '-' in word or ' ' in word:\n",
        "    word = random.choices(words)\n",
        "\n",
        "  return word\n",
        "\n",
        "\n",
        "def hangman():\n",
        "  word = get_word(words)\n",
        "  letters_in_word = set(word)\n",
        "  alphabet = set(string.ascii_lowercase)\n",
        "  used_letters = set()\n",
        "\n",
        "  no_of_tries = 5\n",
        "\n",
        "  while len(letters_in_word) > 0 and no_of_tries > 0:\n",
        "    print(f\"you have {no_of_tries} tries left and you used these letters: \", \" \".join(used_letters))\n",
        "\n",
        "\n",
        "    word_list = []\n",
        "    for letter in word:\n",
        "      if letter in used_letters:\n",
        "        word_list.append(letter)\n",
        "      else:\n",
        "        word_list.append(\"-\")\n",
        "    print(\"Current word: \", \" \".join(word_list))\n",
        "\n",
        "    input_letter = input(\"Guess a letter: \").lower()\n",
        "    if input_letter in alphabet - used_letters:\n",
        "      used_letters.add(input_letter)\n",
        "      if input_letter in letters_in_word:\n",
        "        letters_in_word.remove(input_letter)\n",
        "      else:\n",
        "        no_of_tries -= 1\n",
        "        print(\"Letter not in the word\")\n",
        "\n",
        "    elif input_letter in used_letters:\n",
        "      print(\"Letter is already used. Try again!!\")\n",
        "\n",
        "    else:\n",
        "      print(\"Invalid Character!\")\n",
        "  if no_of_tries == 0:\n",
        "    print(\"Game Over the word was\", word)\n",
        "  else:\n",
        "    print(\"You won the word was\", word)\n",
        "hangman()\n"
      ]
    }
  ]
}