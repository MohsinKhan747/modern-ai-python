{
  "cells": [
    {
      "cell_type": "markdown",
      "metadata": {
        "id": "view-in-github",
        "colab_type": "text"
      },
      "source": [
        "<a href=\"https://colab.research.google.com/github/MohsinKhan747/modern-ai-python/blob/main/HangMan.ipynb\" target=\"_parent\"><img src=\"https://colab.research.google.com/assets/colab-badge.svg\" alt=\"Open In Colab\"/></a>"
      ]
    },
    {
      "cell_type": "code",
      "execution_count": 1,
      "metadata": {
        "colab": {
          "base_uri": "https://localhost:8080/"
        },
        "id": "JTNr6mNtfmYR",
        "outputId": "f4520aea-d24e-44c4-b4a1-8b2d6cc6347d"
      },
      "outputs": [
        {
          "output_type": "stream",
          "name": "stdout",
          "text": [
            "you have 5 tries left and you used these letters:  \n",
            "Current word:  - - - - - - - -\n",
            "Guess a letter: p\n",
            "Letter not in the word\n",
            "you have 4 tries left and you used these letters:  p\n",
            "Current word:  - - - - - - - -\n",
            "Guess a letter: o\n",
            "Letter not in the word\n",
            "you have 3 tries left and you used these letters:  o p\n",
            "Current word:  - - - - - - - -\n",
            "Guess a letter: a\n",
            "you have 3 tries left and you used these letters:  o p a\n",
            "Current word:  - - - - - - a -\n",
            "Guess a letter: i\n",
            "you have 3 tries left and you used these letters:  o i p a\n",
            "Current word:  i - - - - - a -\n",
            "Guess a letter: c\n",
            "you have 3 tries left and you used these letters:  o p i c a\n",
            "Current word:  i c - c - - a -\n",
            "Guess a letter: e\n",
            "you have 3 tries left and you used these letters:  o p i c a e\n",
            "Current word:  i c e c - e a -\n",
            "Guess a letter: r\n",
            "you have 3 tries left and you used these letters:  o r p i c a e\n",
            "Current word:  i c e c r e a -\n",
            "Guess a letter: m\n",
            "You won the word was icecream\n"
          ]
        }
      ],
      "source": [
        "#Project 2 HangMan\n",
        "\n",
        "import random\n",
        "import string\n",
        "\n",
        "words = ['apple','banana','orange','icecream','coffee']\n",
        "def get_word(words):\n",
        "  word = random.choice(words)\n",
        "  while '-' in word or ' ' in word:\n",
        "    word = random.choices(words)\n",
        "\n",
        "  return word\n",
        "\n",
        "a\n",
        "\n",
        "def hangman():\n",
        "  word = get_word(words)\n",
        "  letters_in_word = set(word)\n",
        "  alphabet = set(string.ascii_lowercase)\n",
        "  used_letters = set()\n",
        "\n",
        "  no_of_tries = 5\n",
        "  while len(letters_in_word) > 0 and no_of_tries > 0:\n",
        "    print(f\"you have {no_of_tries} tries left and you used these letters: \", \" \".join(used_letters))\n",
        "\n",
        "    word_list = []\n",
        "    for letter in word:\n",
        "      if letter in used_letters:\n",
        "        word_list.append(letter)\n",
        "      else:\n",
        "        word_list.append(\"-\")\n",
        "    print(\"Current word: \", \" \".join(word_list))\n",
        "\n",
        "    input_letter = input(\"Guess a letter: \").lower()\n",
        "    if input_letter in alphabet - used_letters:\n",
        "      used_letters.add(input_letter)\n",
        "      if input_letter in letters_in_word:\n",
        "        letters_in_word.remove(input_letter)\n",
        "      else:\n",
        "        no_of_tries -= 1\n",
        "        print(\"Letter not in the word\")\n",
        "\n",
        "    elif input_letter in used_letters:\n",
        "      print(\"Letter is already used. Try again!!\")\n",
        "\n",
        "    else:\n",
        "      print(\"Invalid Character!\")\n",
        "  if no_of_tries == 0:\n",
        "    print(\"Game Over the word was\", word)\n",
        "  else:\n",
        "    print(\"You won the word was\", word)\n",
        "hangman()\n"
      ]
    }
  ],
  "metadata": {
    "colab": {
      "provenance": [],
      "authorship_tag": "ABX9TyMtc1BbnLJEeWFjNLk+cJL/",
      "include_colab_link": true
    },
    "kernelspec": {
      "display_name": "Python 3",
      "name": "python3"
    },
    "language_info": {
      "name": "python"
    }
  },
  "nbformat": 4,
  "nbformat_minor": 0
}