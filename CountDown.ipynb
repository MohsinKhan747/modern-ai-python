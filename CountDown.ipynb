{
  "nbformat": 4,
  "nbformat_minor": 0,
  "metadata": {
    "colab": {
      "provenance": [],
      "authorship_tag": "ABX9TyMmf5DhCSdzzNFgBEYVTvtm",
      "include_colab_link": true
    },
    "kernelspec": {
      "name": "python3",
      "display_name": "Python 3"
    },
    "language_info": {
      "name": "python"
    }
  },
  "cells": [
    {
      "cell_type": "markdown",
      "metadata": {
        "id": "view-in-github",
        "colab_type": "text"
      },
      "source": [
        "<a href=\"https://colab.research.google.com/github/MohsinKhan747/modern-ai-python/blob/main/CountDown.ipynb\" target=\"_parent\"><img src=\"https://colab.research.google.com/assets/colab-badge.svg\" alt=\"Open In Colab\"/></a>"
      ]
    },
    {
      "cell_type": "code",
      "execution_count": null,
      "metadata": {
        "id": "Nih6pMS0VWw7"
      },
      "outputs": [],
      "source": [
        "# CountDown\n",
        "\n",
        "hrs: int = int(input(\"Enter hours: \"))\n",
        "mins: int = int(input(\"Enter minues: \"))\n",
        "secs: int = int(input(\"Enter hours: \"))\n",
        "\n",
        "# Still ntn here\n",
        "\n",
        "# I did learn about OOP Today, class , objects, properties, self keyword\n"
      ]
    }
  ]
}