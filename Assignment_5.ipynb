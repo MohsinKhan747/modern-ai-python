{
  "nbformat": 4,
  "nbformat_minor": 0,
  "metadata": {
    "colab": {
      "provenance": [],
      "authorship_tag": "ABX9TyMC9komza1KFLAQEBet4hPN",
      "include_colab_link": true
    },
    "kernelspec": {
      "name": "python3",
      "display_name": "Python 3"
    },
    "language_info": {
      "name": "python"
    }
  },
  "cells": [
    {
      "cell_type": "markdown",
      "metadata": {
        "id": "view-in-github",
        "colab_type": "text"
      },
      "source": [
        "<a href=\"https://colab.research.google.com/github/MohsinKhan747/modern-ai-python/blob/main/Assignment_5.ipynb\" target=\"_parent\"><img src=\"https://colab.research.google.com/assets/colab-badge.svg\" alt=\"Open In Colab\"/></a>"
      ]
    },
    {
      "cell_type": "code",
      "execution_count": null,
      "metadata": {
        "colab": {
          "base_uri": "https://localhost:8080/"
        },
        "id": "GGG7BGHEvnVx",
        "outputId": "d8d31463-22d5-4f92-d6c4-18e09d00d505"
      },
      "outputs": [
        {
          "output_type": "stream",
          "name": "stdout",
          "text": [
            "['Rehan', 85, 90, 87]\n",
            "Usman\n"
          ]
        }
      ],
      "source": [
        "student_grades = [\n",
        "    [\"Rehan\",85,90,87], #fisrt element 0 index\n",
        "     [\"Usman\", 83,95,92], #index 1\n",
        "]\n",
        "print(student_grades[0])\n",
        "print(student_grades[1][0])\n"
      ]
    },
    {
      "cell_type": "markdown",
      "source": [
        "# CONTROL FLOWS"
      ],
      "metadata": {
        "id": "bNQf233vzB4v"
      }
    },
    {
      "cell_type": "code",
      "source": [
        "age : int = int(input(\"Enter your age \"))\n",
        "\n",
        "if  0 <= age <= 6:\n",
        "  print(\"Issue birth certificate\")\n",
        "\n",
        "elif 7 <= age <= 17:\n",
        "  print(\"Issue domicile\")\n",
        "elif age >= 18:\n",
        "    print(\"Issue CNIC\")\n",
        "else:\n",
        "    print(\"Sorry we don't do that!\")\n"
      ],
      "metadata": {
        "colab": {
          "base_uri": "https://localhost:8080/"
        },
        "id": "6s4TRvlW0aiz",
        "outputId": "864a45ab-70b3-42ab-ce69-b6c00cd586f5"
      },
      "execution_count": null,
      "outputs": [
        {
          "output_type": "stream",
          "name": "stdout",
          "text": [
            "Enter your age -2\n",
            "Sorry we don't do that!\n"
          ]
        }
      ]
    },
    {
      "cell_type": "code",
      "source": [
        "name : str = \"Mohsin\"\n",
        "if name:\n",
        "  print(\"hello\", name)"
      ],
      "metadata": {
        "colab": {
          "base_uri": "https://localhost:8080/"
        },
        "id": "vKgznjBJBw02",
        "outputId": "5bfea3ca-e7a7-47b2-8401-57c0c4fc06cd"
      },
      "execution_count": null,
      "outputs": [
        {
          "output_type": "stream",
          "name": "stdout",
          "text": [
            "hello Mohsin\n"
          ]
        }
      ]
    },
    {
      "cell_type": "code",
      "source": [
        "#Grading program\n",
        "\n",
        "name:str = input(\"Enter your name \")\n",
        "father_name: str = input(\"Enter your father name \")\n",
        "roll_no: str = input(\"Enter your roll no \")\n",
        "eng_marks: float = float(input(\"Enter English Marks \"))\n",
        "maths_marks:float = float(input(\"Enter Maths Marks \"))\n",
        "computer_marks:float = float(input(\"Enter Computer Marks \"))\n",
        "physics_marks:float = float(input(\"Enter Physics Marks \"))\n",
        "chemistry_marks:float = float(input(\"Enter Chemistry Marks \"))\n",
        "total_marks = 500\n",
        "total_marks_obtained= eng_marks + maths_marks + computer_marks + physics_marks + chemistry_marks\n",
        "score = total_marks_obtained / total_marks * 100\n",
        "\n",
        "print(\"_____REPORT CARD_____\")\n",
        "print(name)\n",
        "print(father_name)\n",
        "print(roll_no)\n",
        "print(\"|\\t_____Marks Obtained _______ \")\n",
        "print(f\"|\\tEngish :{eng_marks}\")\n",
        "print(f\"|\\tMaths :{maths_marks}\")\n",
        "print(f\"|\\tComputer :{computer_marks}\")\n",
        "print(f\"|\\tPhysics :{physics_marks}\")\n",
        "print(f\"|\\tChemistry :{chemistry_marks}\")\n",
        "print(\"\\t______________________________\")\n",
        "\n",
        "if score >= 90:\n",
        "    print(\"Grade: A\")\n",
        "elif score >= 80:\n",
        "    print(\"Grade: B\")\n",
        "elif score >= 70:\n",
        "    print(\"Grade: C\")\n",
        "elif score >= 60:\n",
        "    print(\"Grade: D\")\n",
        "else:\n",
        "    print(\"Grade: F\")\n",
        "\n",
        "\n",
        "\n"
      ],
      "metadata": {
        "colab": {
          "base_uri": "https://localhost:8080/"
        },
        "id": "P3T00-CbEE-g",
        "outputId": "004377da-5a7c-458c-d392-871dfd2febd3"
      },
      "execution_count": null,
      "outputs": [
        {
          "output_type": "stream",
          "name": "stdout",
          "text": [
            "Enter your name Mohsin\n",
            "Enter your father name Abdul\n",
            "Enter your roll no 8989\n",
            "Enter English Marks 90\n",
            "Enter Maths Marks 89\n",
            "Enter Computer Marks 70\n",
            "Enter Physics Marks 69\n",
            "Enter Chemistry Marks 80\n",
            "_____REPORT CARD_____\n",
            "Mohsin\n",
            "Abdul\n",
            "8989\n",
            "|\t_____Marks Obtained _______ \n",
            "|\tEngish :90.0\n",
            "|\tMaths :89.0\n",
            "|\tComputer :70.0\n",
            "|\tPhysics :69.0\n",
            "|\tChemistry :80.0\n",
            "\t______________________________\n",
            "Grade: C\n"
          ]
        }
      ]
    },
    {
      "cell_type": "code",
      "source": [
        "def get_subject_marks(subject_name):\n",
        "    while True:\n",
        "        try:\n",
        "            marks = float(input(f\"Enter marks for {subject_name} (out of 100): \"))\n",
        "            if marks < 0 or marks > 100:\n",
        "                print(\"Invalid input! Marks must be between 0 and 100.\")\n",
        "            else:\n",
        "                return marks\n",
        "        except ValueError:\n",
        "            print(\"Invalid input! Please enter a valid number.\")\n",
        "\n",
        "def get_grade(marks):\n",
        "    if marks >= 90:\n",
        "        return 'A+'\n",
        "    elif marks >= 80:\n",
        "        return 'A'\n",
        "    elif marks >= 70:\n",
        "        return 'B+'\n",
        "    elif marks >= 60:\n",
        "        return 'B'\n",
        "    elif marks >= 50:\n",
        "        return 'C+'\n",
        "    elif marks >= 40:\n",
        "        return 'C'\n",
        "    elif marks >= 33:\n",
        "        return 'D'\n",
        "    else:\n",
        "        return 'F'\n",
        "\n",
        "def main():\n",
        "    print(\"Enter student details and marks for the result card:\")\n",
        "\n",
        "    # Taking basic student details as input\n",
        "    name = input(\"Enter student's name: \")\n",
        "    father_name = input(\"Enter father's name: \")\n",
        "    roll_number = input(\"Enter roll number: \")\n",
        "\n",
        "    # Define subjects\n",
        "    subjects = ['Math', 'Physics', 'Chemistry', 'Computer Science', 'English']\n",
        "    total_marks_per_subject = 100\n",
        "\n",
        "    # Initialize variables to calculate total marks and obtained marks\n",
        "    total_marks = 0\n",
        "    obtained_marks = 0\n",
        "    subject_grades = {}\n",
        "\n",
        "    # Loop through subjects to get marks and grades\n",
        "    for subject in subjects:\n",
        "        marks = get_subject_marks(subject)\n",
        "        total_marks += total_marks_per_subject\n",
        "        obtained_marks += marks\n",
        "        grade = get_grade(marks)\n",
        "        subject_grades[subject] = grade\n",
        "\n",
        "    # Calculate overall grade\n",
        "    overall_grade = get_grade((obtained_marks / total_marks) * 100)\n",
        "\n",
        "    # Print the result card\n",
        "    print(\"\\n\\n--- RESULT CARD ---\")\n",
        "    from datetime import datetime\n",
        "    print(f\"Date: {datetime.now().strftime('%Y-%m-%d %H:%M:%S')}\")\n",
        "    print(f\"Name: {name}\")\n",
        "    print(f\"Father's Name: {father_name}\")\n",
        "    print(f\"Roll Number: {roll_number}\")\n",
        "\n",
        "    print(\"\\nSubject-wise Results:\")\n",
        "    for subject, grade in subject_grades.items():\n",
        "        print(f\"{subject}: {grade}\")\n",
        "\n",
        "    print(\"\\nOverall Results:\")\n",
        "    print(f\"Total Marks: {total_marks}\")\n",
        "    print(f\"Marks Obtained: {obtained_marks}\")\n",
        "    print(f\"Overall Grade: {overall_grade}\")\n",
        "\n",
        "if __name__ == \"__main__\":\n",
        "    main()\n",
        "8"
      ],
      "metadata": {
        "colab": {
          "base_uri": "https://localhost:8080/"
        },
        "id": "n91ckyPGzy5Q",
        "outputId": "23634f4f-c4df-4f46-8910-580ee30d586a"
      },
      "execution_count": null,
      "outputs": [
        {
          "metadata": {
            "tags": null
          },
          "name": "stdout",
          "output_type": "stream",
          "text": [
            "Enter student details and marks for the result card:\n"
          ]
        }
      ]
    },
    {
      "cell_type": "code",
      "source": [
        "fruits : list[str] = [\"Apple\",\"Banana\",\"Mango\"]\n",
        "# in operator check membership\n",
        "if \"Apple\" in fruits:\n",
        "  print(\"In the List\")"
      ],
      "metadata": {
        "colab": {
          "base_uri": "https://localhost:8080/"
        },
        "id": "-4tdxcJY0gvX",
        "outputId": "a45bf5bf-b80c-4319-bc24-86cf64c0f476"
      },
      "execution_count": null,
      "outputs": [
        {
          "output_type": "stream",
          "name": "stdout",
          "text": [
            "In the List\n"
          ]
        }
      ]
    },
    {
      "cell_type": "code",
      "source": [
        "if \"Strawberry\" not in fruits:\n",
        "  print(\"Strawberry Not in fruits list\")"
      ],
      "metadata": {
        "colab": {
          "base_uri": "https://localhost:8080/"
        },
        "id": "_l3jptnh1Vs8",
        "outputId": "ff764840-4d25-40bf-bce3-6aaf3c6b77d9"
      },
      "execution_count": null,
      "outputs": [
        {
          "output_type": "stream",
          "name": "stdout",
          "text": [
            "Strawberry Not in fruits list\n"
          ]
        }
      ]
    },
    {
      "cell_type": "code",
      "source": [
        "name = \"Rehan\"\n",
        "if \"a\" in name:\n",
        "  print(name)"
      ],
      "metadata": {
        "colab": {
          "base_uri": "https://localhost:8080/"
        },
        "id": "cTWqm_Bt1rYC",
        "outputId": "80eb1ca4-878f-4b7e-a3bb-b284f83031fc"
      },
      "execution_count": null,
      "outputs": [
        {
          "output_type": "stream",
          "name": "stdout",
          "text": [
            "Rehan\n"
          ]
        }
      ]
    },
    {
      "cell_type": "code",
      "source": [
        "# comparing two variab;es that point to the same object\n",
        "\n",
        "a = [1,2,3]\n",
        "b = a\n",
        "print(a is b)\n",
        "\n",
        "# comparing two variables that point to different objects\n",
        "c = [1,2,3]\n",
        "print(a is c) # as memory location is changed so its false"
      ],
      "metadata": {
        "colab": {
          "base_uri": "https://localhost:8080/"
        },
        "id": "o4GfzK3U1x8H",
        "outputId": "31fb2b8c-16c1-45ab-a72e-bd0e7c501868"
      },
      "execution_count": null,
      "outputs": [
        {
          "output_type": "stream",
          "name": "stdout",
          "text": [
            "True\n"
          ]
        }
      ]
    },
    {
      "cell_type": "code",
      "source": [
        "print(\"Memory ID of a\",id(a))\n",
        "print(\"Memory ID of b\",id(b))\n",
        "print(\"Memory ID of c\",id(c))\n"
      ],
      "metadata": {
        "colab": {
          "base_uri": "https://localhost:8080/"
        },
        "id": "IAVBIMwV2E56",
        "outputId": "44f62208-b414-4364-e277-cea394a3afcf"
      },
      "execution_count": null,
      "outputs": [
        {
          "output_type": "stream",
          "name": "stdout",
          "text": [
            "Memory ID of a 136184538372992\n",
            "Memory ID of b 136184538372992\n",
            "Memory ID of c 136184538580736\n"
          ]
        }
      ]
    },
    {
      "cell_type": "code",
      "source": [
        "a = [1, 2, 3]\n",
        "c = [1, 2, 3]\n",
        "print(\"Identity \",a is c) # check address\n",
        "# as memory locations are different so its false , as \"is\" checks the memory location\n",
        "print(\"Equality \",a == c) # check values"
      ],
      "metadata": {
        "colab": {
          "base_uri": "https://localhost:8080/"
        },
        "id": "v38WKI3t37Zv",
        "outputId": "9d3995ff-a000-4cb3-eb8b-e38002c723e8"
      },
      "execution_count": null,
      "outputs": [
        {
          "output_type": "stream",
          "name": "stdout",
          "text": [
            "Identity  False\n",
            "Equality  True\n"
          ]
        }
      ]
    },
    {
      "cell_type": "markdown",
      "source": [
        "# Dictionary\n",
        "1. keys should be unique\n",
        "2. keys can be any data type i.e immutable (str, int, float, boolean)\n",
        "3. values can be any data type\n"
      ],
      "metadata": {
        "id": "zLsezFli8-y9"
      }
    },
    {
      "cell_type": "code",
      "source": [
        "# Dictionary\n",
        "student_score  = {\n",
        "    \"Rehan\": 87, # complete item / member of the dictionary\n",
        "    \"Usman\": 98 # second item\n",
        "}\n",
        "print(dir(student_score))\n"
      ],
      "metadata": {
        "colab": {
          "base_uri": "https://localhost:8080/"
        },
        "id": "adNfHQNB81Nd",
        "outputId": "2679f832-300a-4727-f0ec-8d93f8800694"
      },
      "execution_count": null,
      "outputs": [
        {
          "output_type": "stream",
          "name": "stdout",
          "text": [
            "['__class__', '__class_getitem__', '__contains__', '__delattr__', '__delitem__', '__dir__', '__doc__', '__eq__', '__format__', '__ge__', '__getattribute__', '__getitem__', '__gt__', '__hash__', '__init__', '__init_subclass__', '__ior__', '__iter__', '__le__', '__len__', '__lt__', '__ne__', '__new__', '__or__', '__reduce__', '__reduce_ex__', '__repr__', '__reversed__', '__ror__', '__setattr__', '__setitem__', '__sizeof__', '__str__', '__subclasshook__', 'clear', 'copy', 'fromkeys', 'get', 'items', 'keys', 'pop', 'popitem', 'setdefault', 'update', 'values']\n"
          ]
        }
      ]
    },
    {
      "cell_type": "code",
      "source": [
        "from typing import Any\n",
        "\n",
        "student_score : dict[int, list[int] | dict[str:int]] = { # or you can import Any\n",
        "    1 : [1,2,3,4,5,5], # complete item / member of the dictionary\n",
        "    2 : {\"Rehan\" : 87} # second item\n",
        "}\n",
        "\n"
      ],
      "metadata": {
        "id": "2i0lEJAO94Z9"
      },
      "execution_count": null,
      "outputs": []
    },
    {
      "cell_type": "code",
      "source": [
        "# prompt: Generate a dictionary with ten students with name and their score\n",
        "\n",
        "student_data : dict[str, int] = {\n",
        "    \"Alice\": 85,\n",
        "    \"Bob\": 92,\n",
        "    \"Charlie\": 78,\n",
        "    \"David\": 95,\n",
        "    \"Eve\": 88,\n",
        "    \"Frank\": 75,\n",
        "    \"Grace\": 91,\n",
        "    \"Helen\": 82,\n",
        "    \"Ivy\": 89,\n",
        "    \"Jack\": 79\n",
        "}\n",
        "print(student_data[\"Eve\"])\n",
        "print(student_data.get(\"Rehan\"))"
      ],
      "metadata": {
        "colab": {
          "base_uri": "https://localhost:8080/"
        },
        "id": "Gh63SikN_cQp",
        "outputId": "cf7eab2a-197c-4b58-d5e9-3fa4ce5af67c"
      },
      "execution_count": null,
      "outputs": [
        {
          "output_type": "stream",
          "name": "stdout",
          "text": [
            "88\n",
            "None\n"
          ]
        }
      ]
    },
    {
      "cell_type": "code",
      "source": [
        "from typing import List\n",
        "\n",
        "item_1 : str = \"Cake\"\n",
        "item_2 : str = \"Eggs\"\n",
        "\n",
        "# Methods of Lists\n",
        "shopping_items : List[str] = [\"Cake\",\"Eggs\",\"Juice\",\"Chips\"]\n",
        "\n",
        "# Append item Oil (Adds the item at the end of the list)\n",
        "shopping_items.append(\"Oil\")\n",
        "shopping_items.append(\"flour\")\n",
        "print(shopping_items)\n",
        "\n",
        "# remove item Cake\n",
        "shopping_items.remove(\"Cake\")\n",
        "print(shopping_items)\n",
        "\n",
        "#pop item from the list (item is popped from the end of the list)\n",
        "shopping_items.pop()\n",
        "print(shopping_items)\n",
        "\n",
        "#insert (specify index and the string which you want to insert)\n",
        "shopping_items.insert(0,\"Sugar\")\n",
        "print(shopping_items)\n",
        "\n",
        "# List Slicing\n",
        "\n",
        "# print(shopping_items[0:5])\n",
        "# for i in shopping_items:\n",
        "#   print(i)\n",
        "\n",
        "# this checks whether the string \"Oil\" is in the list or no, return a boolean value\n",
        "print(\"Oil\" in shopping_items)\n"
      ],
      "metadata": {
        "id": "aU4FJuiA-9rD",
        "outputId": "178bfdd6-c25e-4025-b610-aaed5ff51a04",
        "colab": {
          "base_uri": "https://localhost:8080/"
        }
      },
      "execution_count": 13,
      "outputs": [
        {
          "output_type": "stream",
          "name": "stdout",
          "text": [
            "['Cake', 'Eggs', 'Juice', 'Chips', 'Oil', 'flour']\n",
            "['Eggs', 'Juice', 'Chips', 'Oil', 'flour']\n",
            "['Eggs', 'Juice', 'Chips', 'Oil']\n",
            "['Sugar', 'Eggs', 'Juice', 'Chips', 'Oil']\n",
            "True\n"
          ]
        }
      ]
    }
  ]
}