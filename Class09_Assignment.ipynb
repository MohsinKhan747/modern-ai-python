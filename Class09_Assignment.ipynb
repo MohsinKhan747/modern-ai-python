{
  "nbformat": 4,
  "nbformat_minor": 0,
  "metadata": {
    "colab": {
      "provenance": [],
      "authorship_tag": "ABX9TyMf/Iq1Lc9ZMKGVVZhZH/GA",
      "include_colab_link": true
    },
    "kernelspec": {
      "name": "python3",
      "display_name": "Python 3"
    },
    "language_info": {
      "name": "python"
    }
  },
  "cells": [
    {
      "cell_type": "markdown",
      "metadata": {
        "id": "view-in-github",
        "colab_type": "text"
      },
      "source": [
        "<a href=\"https://colab.research.google.com/github/MohsinKhan747/modern-ai-python/blob/main/Class09_Assignment.ipynb\" target=\"_parent\"><img src=\"https://colab.research.google.com/assets/colab-badge.svg\" alt=\"Open In Colab\"/></a>"
      ]
    },
    {
      "cell_type": "code",
      "execution_count": 14,
      "metadata": {
        "colab": {
          "base_uri": "https://localhost:8080/"
        },
        "id": "GBu8S-llK8iv",
        "outputId": "317909c4-2695-42c5-f378-1f4b792b76ae"
      },
      "outputs": [
        {
          "output_type": "stream",
          "name": "stdout",
          "text": [
            "Deposited $500. New balance is: $1500\n",
            "Withdrew $50. New balance is: $1450\n",
            "Your Current balance : $1450\n"
          ]
        }
      ],
      "source": [
        "class BankAccount:\n",
        "  def __init__(self,name,balance):\n",
        "    self.name = name\n",
        "    self.balance = balance\n",
        "\n",
        "  def deposit(self,amount):\n",
        "      if amount > 0:\n",
        "        self.balance += amount\n",
        "        print(f\"Deposited ${amount}. New balance is: ${self.balance}\")\n",
        "      else:\n",
        "        print(\"Deposit Amount must be positive\")\n",
        "\n",
        "  def withdraw(self,amount):\n",
        "    if amount > 0:\n",
        "      if self.balance >= amount:\n",
        "        self.balance -= amount\n",
        "        print(f\"Withdrew ${amount}. New balance is: ${self.balance}\")\n",
        "      else:\n",
        "        print(\"Insufficient funds.\")\n",
        "    else:\n",
        "      print(\"Withdrawl amount be positive\")\n",
        "\n",
        "  def get_balance(self):\n",
        "    return self.balance\n",
        "\n",
        "\n",
        "my_account = BankAccount(\"Mohsin\",1000)\n",
        "my_account.deposit(500)\n",
        "my_account.withdraw(50)\n",
        "print(f\"Your Current balance : ${my_account.get_balance()}\")"
      ]
    },
    {
      "cell_type": "code",
      "source": [
        "# Circle\n",
        "import math\n",
        "class Circle:\n",
        "  def __init__(self,radius):\n",
        "    self.radius = radius\n",
        "\n",
        "  def get_area(self):\n",
        "    return math.pi*self.radius**2\n",
        "\n",
        "  def get_circumference(self):\n",
        "    return math.pi * 2 * self.radius\n",
        "\n",
        "c1 = Circle(5)\n",
        "print(f\"Area of Cirlce is {c1.get_area():.2f}\")\n",
        "print(f\"Circumference of Circle is {c1.get_circumference():.2f}\")"
      ],
      "metadata": {
        "colab": {
          "base_uri": "https://localhost:8080/"
        },
        "id": "SNizDXCOQgFU",
        "outputId": "0e8a2e60-2a01-4a17-e6df-e68563e4dd81"
      },
      "execution_count": 17,
      "outputs": [
        {
          "output_type": "stream",
          "name": "stdout",
          "text": [
            "Area of Cirlce is 78.54\n",
            "Circumference of Circle is 31.42\n"
          ]
        }
      ]
    },
    {
      "cell_type": "code",
      "source": [
        "# Rectangle\n",
        "class Rectangle:\n",
        "\n",
        "  def __init__(self,width,height):\n",
        "    self.width = width\n",
        "    self.height = height\n",
        "\n",
        "  def get_area(self):\n",
        "    return self.width * self.height\n",
        "\n",
        "  def get_perimeter(self):\n",
        "    return 2*self.width + 2*self.height\n",
        "\n",
        "r1 = Rectangle(4,6)\n",
        "print(f\"Area of Rectangle is {r1.get_area()}\")\n",
        "print(f\"Perimeter of Rectangle is {r1.get_perimeter()}\")"
      ],
      "metadata": {
        "colab": {
          "base_uri": "https://localhost:8080/"
        },
        "id": "jldEabG0SDaj",
        "outputId": "5b7b4937-ad6d-4a44-90d7-5663aaeb9862"
      },
      "execution_count": 20,
      "outputs": [
        {
          "output_type": "stream",
          "name": "stdout",
          "text": [
            "Area of Rectangle is 24\n",
            "Perimeter of Rectangle is 20\n"
          ]
        }
      ]
    },
    {
      "cell_type": "code",
      "source": [
        "# student\n",
        "\n",
        "class Student:\n",
        "\n",
        "  def __init__(self,name,age,grades):\n",
        "    self.name = name\n",
        "    self.age = age\n",
        "    self.grades = grades\n",
        "\n",
        "  def get_average_grades(self):\n",
        "    return sum(self.grades) / len(self.grades)\n",
        "\n",
        "  def get_highest_grades(self):\n",
        "    return max(self.grades)\n",
        "\n",
        "  def get_lowest_grades(self):\n",
        "    return min(self.grades)\n",
        "\n",
        "student = Student(\"Mohsin\",26,[77,88,99,89])\n",
        "print(f\"Average Grades of {student.name} are {student.get_average_grades()}\")\n",
        "print(f\"Highest Grade is {student.get_highest_grades()}\")\n",
        "print(f\"Lowest Grade is {student.get_lowest_grades()}\")"
      ],
      "metadata": {
        "colab": {
          "base_uri": "https://localhost:8080/"
        },
        "id": "o6_Psd1zTXAW",
        "outputId": "d86248a5-6afc-4ed9-a8d6-23945d509eb0"
      },
      "execution_count": 21,
      "outputs": [
        {
          "output_type": "stream",
          "name": "stdout",
          "text": [
            "Average Grades of Mohsin are 88.25\n",
            "Highest Grade is 99\n",
            "Lowest Grade is 77\n"
          ]
        }
      ]
    },
    {
      "cell_type": "code",
      "source": [
        "# Implementing magic methods to compare object of the classes\n",
        "\n",
        "class Person:\n",
        "  def __init__(self,name,age):\n",
        "    self.name = name\n",
        "    self.age = age\n",
        "\n",
        "  def __eq__(self,obj):\n",
        "    if isinstance(obj,Person):\n",
        "      return self.age == obj.age\n",
        "    return NotImplemented\n",
        "\n",
        "person1 = Person(\"Mohsin\",27)\n",
        "person2 = Person(\"Ali\",27)\n",
        "print(person1 == person2)\n",
        "print(person1 != person2)"
      ],
      "metadata": {
        "colab": {
          "base_uri": "https://localhost:8080/"
        },
        "id": "iVqVu1cRlgIg",
        "outputId": "3eb33a2c-e02a-4dc4-c546-6e709a9a9c0a"
      },
      "execution_count": 25,
      "outputs": [
        {
          "output_type": "stream",
          "name": "stdout",
          "text": [
            "True\n",
            "False\n"
          ]
        }
      ]
    }
  ]
}