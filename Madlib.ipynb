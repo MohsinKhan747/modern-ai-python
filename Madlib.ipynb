{
  "nbformat": 4,
  "nbformat_minor": 0,
  "metadata": {
    "colab": {
      "provenance": [],
      "authorship_tag": "ABX9TyOFnojqTWWBX8oOosbaeM86",
      "include_colab_link": true
    },
    "kernelspec": {
      "name": "python3",
      "display_name": "Python 3"
    },
    "language_info": {
      "name": "python"
    }
  },
  "cells": [
    {
      "cell_type": "markdown",
      "metadata": {
        "id": "view-in-github",
        "colab_type": "text"
      },
      "source": [
        "<a href=\"https://colab.research.google.com/github/MohsinKhan747/modern-ai-python/blob/main/Madlib.ipynb\" target=\"_parent\"><img src=\"https://colab.research.google.com/assets/colab-badge.svg\" alt=\"Open In Colab\"/></a>"
      ]
    },
    {
      "cell_type": "code",
      "execution_count": 4,
      "metadata": {
        "colab": {
          "base_uri": "https://localhost:8080/"
        },
        "id": "np0na5aWjkuE",
        "outputId": "fa5ede0d-3486-4f51-e3ae-901ca551e156"
      },
      "outputs": [
        {
          "output_type": "stream",
          "name": "stdout",
          "text": [
            "Enter a Noun: cat\n",
            "Enter a Adjective: beautiful\n",
            "Enter a Verb: play\n",
            "Yesterday, I saw a cat that was so beautiful! It made me want to play all day long.\n"
          ]
        }
      ],
      "source": [
        "# Project 1 Mad Lib\n",
        "\n",
        "noun: str = input(\"Enter a Noun: \")\n",
        "adjective: str = input(\"Enter a Adjective: \")\n",
        "verb: str = input(\"Enter a Verb: \")\n",
        "\n",
        "\n",
        "print(f\"Yesterday, I saw a {noun} that was so {adjective}! It made me want to {verb} all day long.\")"
      ]
    }
  ]
}